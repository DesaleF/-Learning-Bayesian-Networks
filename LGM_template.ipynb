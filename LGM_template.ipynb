{
 "cells": [
  {
   "cell_type": "markdown",
   "metadata": {},
   "source": [
    "### Linear Gaussian Model"
   ]
  },
  {
   "cell_type": "code",
   "execution_count": 1,
   "metadata": {},
   "outputs": [],
   "source": [
    "import numpy as np "
   ]
  },
  {
   "cell_type": "markdown",
   "metadata": {},
   "source": [
    "#### Auxiliary functions"
   ]
  },
  {
   "cell_type": "code",
   "execution_count": 101,
   "metadata": {
    "jupyter": {
     "source_hidden": true
    }
   },
   "outputs": [],
   "source": [
    "# Skeleton definition\n",
    "NUI_SKELETON_POSITION_COUNT = 20\n",
    "\n",
    "NONE = -1\n",
    "HIP_CENTER = 0\n",
    "SPINE = 1\n",
    "SHOULDER_CENTER = 2\n",
    "HEAD = 3\n",
    "SHOULDER_LEFT = 4\n",
    "ELBOW_LEFT = 5\n",
    "WRIST_LEFT = 6\n",
    "HAND_LEFT = 7\n",
    "SHOULDER_RIGHT = 8\n",
    "ELBOW_RIGHT = 9\n",
    "WRIST_RIGHT = 10\n",
    "HAND_RIGHT = 11\n",
    "HIP_LEFT = 12\n",
    "KNEE_LEFT = 13\n",
    "ANKLE_LEFT = 14\n",
    "FOOT_LEFT = 15\n",
    "HIP_RIGHT = 16\n",
    "KNEE_RIGHT = 17\n",
    "ANKLE_RIGHT = 18\n",
    "FOOT_RIGHT = 19\n",
    "\n",
    "nui_skeleton_names = ( \\\n",
    "    'HIP_CENTER', 'SPINE', 'SHOULDER_CENTER', 'HEAD', \\\n",
    "    'SHOULDER_LEFT', 'ELBOW_LEFT', 'WRIST_LEFT', 'HAND_LEFT', \\\n",
    "    'SHOULDER_RIGHT', 'ELBOW_RIGHT', 'WRIST_RIGHT', 'HAND_RIGHT', \\\n",
    "    'HIP_LEFT', 'KNEE_LEFT', 'ANKLE_LEFT', 'FOOT_LEFT', \\\n",
    "    'HIP_RIGHT', 'KNEE_RIGHT', 'ANKLE_RIGHT', 'FOOT_RIGHT' )\n",
    "\n",
    "nui_skeleton_conn = ( \\\n",
    "    NONE, \\\n",
    "    HIP_CENTER, \\\n",
    "    SPINE, \\\n",
    "    SHOULDER_CENTER, \\\n",
    "    # Left arm \n",
    "    SHOULDER_CENTER, \\\n",
    "    SHOULDER_LEFT,  \\\n",
    "    ELBOW_LEFT,  \\\n",
    "    WRIST_LEFT,  \\\n",
    "    # Right arm \n",
    "    SHOULDER_CENTER,  \\\n",
    "    SHOULDER_RIGHT,  \\\n",
    "    ELBOW_RIGHT,  \\\n",
    "    WRIST_RIGHT,  \\\n",
    "    # Left leg \n",
    "    HIP_CENTER,  \\\n",
    "    HIP_LEFT,  \\\n",
    "    KNEE_LEFT,  \\\n",
    "    ANKLE_LEFT,  \\\n",
    "    # Right leg \n",
    "    HIP_CENTER,  \\\n",
    "    HIP_RIGHT,  \\\n",
    "    KNEE_RIGHT,  \\\n",
    "    ANKLE_RIGHT,  \\\n",
    ")\n"
   ]
  },
  {
   "cell_type": "code",
   "execution_count": 19,
   "metadata": {},
   "outputs": [],
   "source": [
    "def load_dataset(file=None):\n",
    "    \"\"\"\n",
    "      Returns the data, the labels and the person id for each action\n",
    "    \"\"\"\n",
    "    import scipy.io\n",
    "    \n",
    "    if file is None:\n",
    "        ex = scipy.io.loadmat('data/data.mat')\n",
    "    else:\n",
    "        ex = scipy.io.loadmat(file)\n",
    "        \n",
    "    return ex['data'],ex['labels'],ex['individuals']\n"
   ]
  },
  {
   "cell_type": "code",
   "execution_count": 120,
   "metadata": {},
   "outputs": [],
   "source": [
    "def load_ejemplo(file=None):\n",
    "    \"\"\"\n",
    "      Returns the ejemplo\n",
    "    \"\"\"\n",
    "    import scipy.io\n",
    "    \n",
    "    if file is None:\n",
    "        ex = scipy.io.loadmat('data/ejemplolineargaussian.mat')\n",
    "    else:\n",
    "        ex = scipy.io.loadmat(file)\n",
    "    ex = ex['ejemplo'][0][0]\n",
    "        \n",
    "    return ex['inputY'], ex['inputX'], ex['outputBetas'], ex[ 'outputSigma']"
   ]
  },
  {
   "cell_type": "code",
   "execution_count": 82,
   "metadata": {},
   "outputs": [],
   "source": [
    "def load_validation(file=None):\n",
    "    \"\"\"\n",
    "      Returns the small data for validation\n",
    "    \"\"\"\n",
    "    import scipy.io\n",
    "    \n",
    "    if file is None:\n",
    "        ex = scipy.io.loadmat('data/validation_data.mat')\n",
    "    else:\n",
    "        ex = scipy.io.loadmat(file)\n",
    "        \n",
    "    return ex['data_small']"
   ]
  },
  {
   "cell_type": "code",
   "execution_count": null,
   "metadata": {},
   "outputs": [],
   "source": [
    "\n",
    "\n"
   ]
  },
  {
   "cell_type": "code",
   "execution_count": 75,
   "metadata": {},
   "outputs": [
    {
     "name": "stdout",
     "output_type": "stream",
     "text": [
      "size of data:  (20, 3, 2045)\n",
      "size of labels:  (2045, 1)\n",
      "number of classes:  4\n",
      "classes: \n",
      "1  2  3  8  "
     ]
    }
   ],
   "source": [
    "\"\"\"\n",
    "    To see if the data is loaded and to be familiar with data \n",
    "    also to have general idea of the the dimensions\n",
    "\"\"\" \n",
    "data , labels, individuals = load_dataset()\n",
    "print(\"size of data: \",data.shape)\n",
    "print(\"size of labels: \",labels.shape)\n",
    "# print(individuals.shape)\n",
    "# print(data)\n",
    "\n",
    "# to see the classes of the joints\n",
    "print(\"number of classes: \",np.unique(labels).shape[0])\n",
    "print(\"classes: \")\n",
    "for cls in np.nditer(np.unique(labels)):\n",
    "    print(cls, end='  ')"
   ]
  },
  {
   "cell_type": "code",
   "execution_count": 26,
   "metadata": {},
   "outputs": [],
   "source": [
    "def log_normpdf(x, mu, sigma):\n",
    "    \"\"\"\n",
    "      Computes the natural logarithm of the normal probability density function\n",
    "      \n",
    "    \"\"\"\n",
    "    return scipy.stats.norm.logpdf(x,mu,sigma)"
   ]
  },
  {
   "cell_type": "code",
   "execution_count": 27,
   "metadata": {},
   "outputs": [],
   "source": [
    "def normalize_logprobs(log_probs):\n",
    "    \"\"\"\n",
    "       Returns the log prob normalizes so that when exponenciated\n",
    "       it adds up to 1 (Useful to normalizes logprobs)\n",
    "    \"\"\"\n",
    "    mm = np.max(log_probs)\n",
    "    return log_probs - mm - np.log(np.sum(np.exp(log_probs - mm)))\n"
   ]
  },
  {
   "cell_type": "markdown",
   "metadata": {},
   "source": [
    "#### Functions to implement"
   ]
  },
  {
   "cell_type": "code",
   "execution_count": 28,
   "metadata": {},
   "outputs": [],
   "source": [
    "def fit_gaussian(X, W=None):\n",
    "    \"\"\"\n",
    "      Compute the mean and variance of X, \n",
    "      You can ignore W for the moment\n",
    "    \"\"\"\n",
    "    #mean\n",
    "    mean = X.mean()\n",
    "    #variance\n",
    "    variance = X.var()\n",
    "    return (mean, variance)\n"
   ]
  },
  {
   "cell_type": "code",
   "execution_count": 112,
   "metadata": {},
   "outputs": [
    {
     "name": "stdout",
     "output_type": "stream",
     "text": [
      "[[ 0.08341   0.081944  0.082453 ...  0.007845 -0.06222  -0.068802]\n",
      " [ 0.251406  0.258025  0.25243  ...  0.195303  0.183259  0.133769]\n",
      " [ 2.70917   2.698782  2.685623 ...  2.568254  2.507551  2.61902 ]]\n",
      "515\n"
     ]
    }
   ],
   "source": [
    "print(data[1,:,:])\n",
    "# for x in np.nditer(data):\n",
    "#     print(x)\n",
    "#     print(fit_gaussian(x))\n",
    "indexs = np.where(labels == 8)\n",
    "cl_data = data[:,:,indexs[0]]\n",
    "print(cl_data.shape)\n",
    "    "
   ]
  },
  {
   "cell_type": "code",
   "execution_count": 29,
   "metadata": {},
   "outputs": [],
   "source": [
    "def my_cov(x,y,w):\n",
    "    \"\"\"\n",
    "      Useful function for fit_linear_gaussian\n",
    "    \"\"\"\n",
    "    return np.sum(w*x*y)/np.sum(w)-np.sum(w*x)*np.sum(w*y)/np.sum(w)/np.sum(w)\n"
   ]
  },
  {
   "cell_type": "code",
   "execution_count": 177,
   "metadata": {},
   "outputs": [
    {
     "name": "stdout",
     "output_type": "stream",
     "text": [
      "(20, 3, 120)\n",
      "(230, 1)\n",
      "[-4.53211657e+00 -2.39660133e-18  1.64030502e-20  1.54598498e-17]\n",
      "969.9275201101004\n"
     ]
    }
   ],
   "source": [
    "data = load_validation()\n",
    "print(data.shape)\n",
    "\n",
    "(y,x, betas,sigma) = load_ejemplo()\n",
    "print(y.shape)\n",
    "(b,s) = fit_linear_gaussian(y,x,1)\n",
    "print(b)\n",
    "print(s)"
   ]
  },
  {
   "cell_type": "code",
   "execution_count": 191,
   "metadata": {},
   "outputs": [],
   "source": [
    "def fit_linear_gaussian(Y,X,W = None):\n",
    "    \"\"\"\n",
    "    Input:\n",
    "      Y: vector of size D with the observations for the variable\n",
    "      X: matrix DxV with the observations for the parent variables\n",
    "                 of X. V is the number of parent variables\n",
    "                 thus X has observations of Y's parents\n",
    "      W: vector of size D with the weights of the instances (ignore for the moment)\n",
    "      \n",
    "    Outout:\n",
    "    \n",
    "       The betas and sigma\n",
    "    \"\"\"\n",
    "    \n",
    "        # no parents\n",
    "    len_betas = X.shape[1]+1;\n",
    "    b = np.zeros(len_betas)\n",
    "    A = np.zeros((len_betas,len_betas))\n",
    "    betas = np.zeros(len_betas)\n",
    "    sigma = 0\n",
    "    \n",
    "    # FORMAT b , from b = Ax..\n",
    "    \n",
    "    # Constract vector b .. the interest variable.\n",
    "    for i in range(len_betas):\n",
    "        if i==0:\n",
    "            b[0] = np.mean(Y)        \n",
    "        else:\n",
    "            b[i] = np.mean(X[:,i-1]*Y)\n",
    "    \n",
    "    # Format A matrix.\n",
    "    A[0,0] = 1\n",
    "    # first row and first col of A\n",
    "    for i in range(1,len_betas):\n",
    "        A[0,i] = A[i,0] = np.mean(X[:,i-1])\n",
    "        \n",
    "    # For the rest\n",
    "    for i in range(1,len_betas):\n",
    "        for j in range(1,len_betas):\n",
    "            A[i,j] = np.mean(X[:,i-1]*X[:,j-1])\n",
    "    # to find betas we can use linear equation: b = Ax=> x = inverse(A)b\n",
    "    betas = np.linalg.solve(A,b)\n",
    "    \n",
    "    # sigmas and \n",
    "    w = np.ones(X.shape[0])\n",
    "    sigma_set = 0 \n",
    "    for i in range(1,X.shape[1]+1):\n",
    "        for j in range(1,X.shape[1]+1):\n",
    "            sigma_set += betas[i]*betas[j]*my_cov(X[:,i-1],X[:,j-1],w)\n",
    "    sigma = np.sqrt(abs(my_cov(Y, Y , w) - sigma_set))\n",
    "    return (betas,sigma)"
   ]
  },
  {
   "cell_type": "code",
   "execution_count": 192,
   "metadata": {},
   "outputs": [
    {
     "name": "stdout",
     "output_type": "stream",
     "text": [
      "[ 1.00055877  2.00003669 10.00502444  4.00659978  5.01183532  6.0061576 ]\n",
      "0.08527235374262672\n"
     ]
    }
   ],
   "source": [
    "def generate_random_lgm_samples(n, betas, sigma):\n",
    "    \"\"\"Function to generate random samples for a \n",
    "       Linear Gaussian Model\n",
    "       Input:\n",
    "           n: Number of samples\n",
    "           betas: vector with the values the the betas from 0 to k\n",
    "           sigma: standard deviation\n",
    "    \"\"\"\n",
    "    X = np.random.randn(n,betas.shape[0]-1)\n",
    "    Y = np.random.randn(n)*sigma + np.sum(X*betas[1:],axis=1)+betas[0]\n",
    "    return X,Y\n",
    "\n",
    "betas = np.array([1,2,10,4,5,6])\n",
    "sigma = 0.1\n",
    "n=100\n",
    "X,Y=generate_random_lgm_samples(n,betas,sigma)\n",
    "# This following call should output  betas and sigma close to the above ones\n",
    "(b,s) = fit_linear_gaussian(Y,X)\n",
    "print(b)\n",
    "print(s)"
   ]
  },
  {
   "cell_type": "code",
   "execution_count": 183,
   "metadata": {},
   "outputs": [],
   "source": [
    "def prior_prob(labels):\n",
    "    \n",
    "    unique_labels =np.unique(labels)\n",
    "    prior = np.zeros(unique_labels.size)\n",
    "    for i in range(unique_labels.size):\n",
    "        prior[i] = (np.size(labels[labels == unique_labels[i]])/labels.size)\n",
    "    return prior"
   ]
  },
  {
   "cell_type": "code",
   "execution_count": 154,
   "metadata": {},
   "outputs": [
    {
     "name": "stdout",
     "output_type": "stream",
     "text": [
      "[-1.38789158 -1.39180356 -1.38104561 -1.38446859]\n",
      "1.0\n"
     ]
    }
   ],
   "source": [
    "priori = prior_prob(labels)\n",
    "print(normalize_logprobs(priori))\n",
    "print(sum(priori))"
   ]
  },
  {
   "cell_type": "code",
   "execution_count": 139,
   "metadata": {},
   "outputs": [],
   "source": [
    "def learn_model(dataset, labels, G=None):\n",
    "    \"\"\"\n",
    "    Input:\n",
    "     dataset: The data as it is loaded from load_data\n",
    "     labels:  The labels as loaded from load_data\n",
    "     Graph:   (optional) If None, this def should compute the naive \n",
    "           bayes model. If it contains a skel description (pe \n",
    "           nui_skeleton_conn, as obtained from skel_model) then it should\n",
    "           compute the model using the Linear Gausian Model\n",
    "\n",
    "    Output: the model\n",
    "     a (tentative) structure for the output model is:\n",
    "       model.connectivity: the input Graph variable should be stored here \n",
    "                           for later use.\n",
    "       model.class_priors: containing a vector with the prior estimations\n",
    "                           for each class\n",
    "       model.jointparts[i] contains the estimated parameters for the i-th joint\n",
    "\n",
    "          For joints that only depend on the class model.jointparts(i) has:\n",
    "            model.jointparts(i).means: a matrix of 3 x #classes with the\n",
    "                   estimated means for each of the x,y,z variables of the \n",
    "                   i-th joint and for each class.\n",
    "            model.jointparts(i).sigma: a matrix of 3 x #classes with the\n",
    "                   estimated stadar deviations for each of the x,y,z \n",
    "                   variables of the i-th joint and for each class.\n",
    "\n",
    "          For joints that follow a gausian linear model model.jointparts(i) has:\n",
    "            model.jointparts(i).betas: a matrix of 12 x #classes with the\n",
    "                   estimated betas for each x,y,z variables (12 in total) \n",
    "                   of the i-th joint and for each class label.\n",
    "            model.jointparts(i).sigma: as above\n",
    "            https://www.youtube.com/watch?v=PErqizZqLjI\n",
    "    \"\"\"\n",
    "    # estimate priori probablity of classes and create model object\n",
    "    prioriProb = prior_prob(labels)\n",
    "    model = Model(G, prioriProb)\n",
    "    \n",
    "    # for each classes \n",
    "    cls = np.array([1,2,3,8],np.int32)\n",
    "    for cl in np.nditer(cls):\n",
    "        indexs = np.where(labels == cl)\n",
    "        cl_data = data[:,:,indexs[0]]\n",
    "        cl_index = np.where(cls == cl)[0][0] # for indexing purpose\n",
    "        \n",
    "        # we have 3 coordinate for each joints(20 Jnts)\n",
    "        for jointCord in range(20): \n",
    "            if G is None or G[joint] == -1:\n",
    "                (mean_x, variance_x) = fit_gaussian(cl_data[jointCord,0,:]) #x\n",
    "                (mean_y, variance_y) = fit_gaussian(cl_data[jointCord,1,:]) #y\n",
    "                (mean_z, variance_z) = fit_gaussian(cl_data[jointCord,2,:]) #z\n",
    "                mean = np.array([mean_x,mean_y,mean_z])\n",
    "                variance = np.array([variance_x, variance_y, variance_z])\n",
    "                model.jointParts(jointCord,cl_index,mean = mean.T,variance = variance.T)\n",
    "                \n",
    "            else:\n",
    "                (betas_x, sigma_x) = fit_linear_gaussian(cl_data[jointCord,0,:],cl_data[G[jointCord],:,:]) #x\n",
    "                (betas_y, sigma_y) = fit_linear_gaussian(cl_data[jointCord,1,:],cl_data[G[jointCord],:,:]) #y\n",
    "                (betas_z, sigma_z) = fit_linear_gaussian(cl_data[jointCord,2,:],cl_data[G[jointCord],:,:]) #z\n",
    "                betas = np.append(betas_x, betas_y, betas_z)\n",
    "                sigma = np.array([sigma_x, sigma_y,sigma_z])\n",
    "                model.jointParts(jointCord,cl_index,betas = betas.T,sigma = sigma.T)\n",
    "                \n",
    "    return model"
   ]
  },
  {
   "cell_type": "code",
   "execution_count": 129,
   "metadata": {},
   "outputs": [],
   "source": [
    "class Model:\n",
    "    def __init__(self,connectivity,priori_prob):\n",
    "        self.mean = np.zeros((20,3,4))\n",
    "        self.variance = np.zeros((20,3,4))\n",
    "        self.betas = np.zeros((20,12,4))\n",
    "        self.sigma= np.zeros((20,3,4))\n",
    "        self.connectivity = connectivity\n",
    "        self.priori_prob = priori_prob\n",
    "        \n",
    "    # Input graph variables\n",
    "    def getConnectivity(self):\n",
    "        return self.connectivity \n",
    "    \n",
    "    # Priori probablity of each class\n",
    "    def getClass_priori(self):\n",
    "        return self.priori_prob  \n",
    "    \n",
    "    # estimated parameters of each joint\n",
    "    def jointParts(self, index,cl,mean = None, variance  = None, betas  = None, sigma  = None):\n",
    "\n",
    "        self.index = index\n",
    "        if self.connectivity is None or self.connectivity(index) == -1:\n",
    "            self.mean[index,:,cl] = mean # matrix of 20 x 3 x #classes\n",
    "            self.variance[index,:,cl] = variance # matrix of 20 x 3 x #classes\n",
    "        else:\n",
    "            self.betas[index,:,cl] = betas # matrix of 20 x 12 x #classes\n",
    "            self.sigma[index,:,cl] = sigma # matrix of 20 x 3 x #classes\n",
    "                "
   ]
  },
  {
   "cell_type": "code",
   "execution_count": null,
   "metadata": {},
   "outputs": [],
   "source": [
    "# Test area\n",
    "# model = Model(np.zeros((12,1)),np.zeros((12,1)))\n",
    "# model = learn_model(data,labels)\n",
    "# print(model.sigma[1,:,1])\n",
    "# validation = load_validation()\n",
    "# classify_instances(validation,model)\n",
    "# print(model.mean)\n",
    "\n"
   ]
  },
  {
   "cell_type": "code",
   "execution_count": 147,
   "metadata": {},
   "outputs": [],
   "source": [
    "def classify_instances(instances, model):\n",
    "    \"\"\"    \n",
    "    Input\n",
    "       instance: a 20x3x#instances matrix defining body positions of\n",
    "                 instances\n",
    "       model: as the output of learn_model\n",
    "\n",
    "    Output\n",
    "       probs: a matrix of #instances x #classes with the probability of each\n",
    "              instance of belonging to each of the classes\n",
    "\n",
    "    Important: to avoid underflow numerical issues this computations should\n",
    "               be performed in log space\n",
    "    \"\"\"\n",
    "#     model = learn_model(data, labels)\n",
    "    probs = np.zeros((instances.shape[2], model.getClass_priori().shape[0])) \n",
    "    for inst in range(instances.shape[2]):\n",
    "        example = instances[:,:inst]\n",
    "        probs[inst,:]= compute_logprobs(example, model)\n",
    "    return probs"
   ]
  },
  {
   "cell_type": "code",
   "execution_count": 148,
   "metadata": {},
   "outputs": [],
   "source": [
    "def compute_logprobs(example, model):\n",
    "    \"\"\"\n",
    "       Input\n",
    "           instance: a 20x3 matrix defining body positions of one instance\n",
    "           model: as given by learn_model\n",
    "\n",
    "       Output\n",
    "           l: a vector of len #classes containing the loglikelihhod of the \n",
    "              instance\n",
    "\n",
    "    \"\"\"\n",
    "    priori = model.getClass_priori()\n",
    "    G = model.getConnectivity()\n",
    "    likelihood = np.zeros(priori.shape[0]) #len #classes\n",
    "    for cl in range(likelihood.shape[0]):\n",
    "        #compute the loglikelihood of the instance\n",
    "        p = np.log(priori[cl])\n",
    "        for i in range(example.shape[0]):\n",
    "            if G is None or G[joint] == -1:\n",
    "                # naive bayes \n",
    "                mean = model.mean[i,:,cl]\n",
    "                variance = model.variance[i,:,cl]\n",
    "                for coor in range(mean.shape[0]):\n",
    "                    p = p + log_normpdf(example[i,coor], mean[coor], np.sqrt(variance[coor]))\n",
    "                \n",
    "            else:\n",
    "                # linear Gaussian\n",
    "                betas = model.betas[i,:,cl].reshape(example.shape[1],example.shape[1]+1) # (3X4)\n",
    "                sigma = model.sigma[i,:,cl]\n",
    "                for bi in range(betas.shape[0]):\n",
    "                    mu = betas[bi,0]\n",
    "                    for bj in range(betas.shape[1]-1):\n",
    "                        mu = mu + betas[bi,bj+1]*example[G[i]][bj]\n",
    "                    p = p + log_normpdf(example[i,bi], mu, np.sqrt(sigma[bi]))\n",
    "                    \n",
    "        likelihood[cl] = p\n",
    "    return np.exp(normalize_logprobs(likelihood))\n",
    "\n"
   ]
  },
  {
   "cell_type": "code",
   "execution_count": null,
   "metadata": {},
   "outputs": [],
   "source": [
    "\n",
    "\n",
    "\n",
    "\n"
   ]
  }
 ],
 "metadata": {
  "kernelspec": {
   "display_name": "Python 3",
   "language": "python",
   "name": "python3"
  },
  "language_info": {
   "codemirror_mode": {
    "name": "ipython",
    "version": 3
   },
   "file_extension": ".py",
   "mimetype": "text/x-python",
   "name": "python",
   "nbconvert_exporter": "python",
   "pygments_lexer": "ipython3",
   "version": "3.6.9"
  }
 },
 "nbformat": 4,
 "nbformat_minor": 4
}
